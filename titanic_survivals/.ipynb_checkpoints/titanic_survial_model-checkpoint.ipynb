{
 "cells": [
  {
   "cell_type": "code",
   "execution_count": 4,
   "id": "0948c7db-50c2-4dd6-84ec-64a8b93c1da3",
   "metadata": {},
   "outputs": [],
   "source": [
    "# import data cleaning and graphing packages\n",
    "import pandas as pd\n",
    "import numpy as np\n",
    "import matplotlib.pyplot as plt\n",
    "import seaborn as sns\n",
    "sns.set_theme(style='whitegrid', palette='Blues')"
   ]
  },
  {
   "cell_type": "markdown",
   "id": "ba04e709-6345-4dbf-a353-7292122eb554",
   "metadata": {
    "tags": []
   },
   "source": [
    "# Problem Statement\n"
   ]
  },
  {
   "cell_type": "code",
   "execution_count": null,
   "id": "5ffb9817-7d07-46fe-aade-29a8dda9eb97",
   "metadata": {},
   "outputs": [],
   "source": [
    "# import scikit-learn packages for ML\n",
    "\n"
   ]
  },
  {
   "cell_type": "code",
   "execution_count": null,
   "id": "b7b350f9-44a1-4475-9982-47b2494902c8",
   "metadata": {},
   "outputs": [],
   "source": []
  }
 ],
 "metadata": {
  "kernelspec": {
   "display_name": "Python 3 (ipykernel)",
   "language": "python",
   "name": "python3"
  },
  "language_info": {
   "codemirror_mode": {
    "name": "ipython",
    "version": 3
   },
   "file_extension": ".py",
   "mimetype": "text/x-python",
   "name": "python",
   "nbconvert_exporter": "python",
   "pygments_lexer": "ipython3",
   "version": "3.9.7"
  }
 },
 "nbformat": 4,
 "nbformat_minor": 5
}
