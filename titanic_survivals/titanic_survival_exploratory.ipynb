{
 "cells": [
  {
   "cell_type": "code",
   "execution_count": 1,
   "id": "40ccd3ec-c78b-45df-813f-e4a99193eb24",
   "metadata": {},
   "outputs": [],
   "source": [
    "import pandas as pd\n",
    "import numpy as np\n",
    "from sklearn.linear_model import LogisticRegression\n",
    "from sklearn.ensemble import RandomForestRegressor\n",
    "from sklearn import preprocessing\n",
    "from sklearn.metrics import accuracy_score, confusion_matrix\n",
    "import matplotlib.pyplot as plt\n",
    "import seaborn as sns\n",
    "sns.set_style('darkgrid')\n",
    "\n",
    "logreg = LogisticRegression()"
   ]
  },
  {
   "cell_type": "code",
   "execution_count": 3,
   "id": "13cceff8-2e95-48a7-bc59-4af644de8c94",
   "metadata": {},
   "outputs": [
    {
     "name": "stdout",
     "output_type": "stream",
     "text": [
      "----------------------------------------\n",
      "<class 'pandas.core.frame.DataFrame'>\n",
      "Int64Index: 891 entries, 1 to 891\n",
      "Data columns (total 11 columns):\n",
      " #   Column    Non-Null Count  Dtype  \n",
      "---  ------    --------------  -----  \n",
      " 0   Survived  891 non-null    int64  \n",
      " 1   Pclass    891 non-null    int64  \n",
      " 2   Name      891 non-null    object \n",
      " 3   Sex       891 non-null    object \n",
      " 4   Age       714 non-null    float64\n",
      " 5   SibSp     891 non-null    int64  \n",
      " 6   Parch     891 non-null    int64  \n",
      " 7   Ticket    891 non-null    object \n",
      " 8   Fare      891 non-null    float64\n",
      " 9   Cabin     204 non-null    object \n",
      " 10  Embarked  889 non-null    object \n",
      "dtypes: float64(2), int64(4), object(5)\n",
      "memory usage: 83.5+ KB\n"
     ]
    }
   ],
   "source": [
    "### Read in the training data\n",
    "titanic_training = pd.read_csv('data/train_data.csv', index_col='PassengerId')\n",
    "print('-'*40)\n",
    "titanic_training.info()"
   ]
  },
  {
   "cell_type": "code",
   "execution_count": 7,
   "id": "c3607625-8df6-47d9-a6f2-bbd7e4051c45",
   "metadata": {},
   "outputs": [
    {
     "data": {
      "text/plain": [
       "array(['X', 'C85', 'C123', 'E46', 'G6', 'C103', 'D56', 'A6',\n",
       "       'C23 C25 C27', 'B78', 'D33', 'B30', 'C52', 'B28', 'C83', 'F33',\n",
       "       'F G73', 'E31', 'A5', 'D10 D12', 'D26', 'C110', 'B58 B60', 'E101',\n",
       "       'F E69', 'D47', 'B86', 'F2', 'C2', 'E33', 'B19', 'A7', 'C49', 'F4',\n",
       "       'A32', 'B4', 'B80', 'A31', 'D36', 'D15', 'C93', 'C78', 'D35',\n",
       "       'C87', 'B77', 'E67', 'B94', 'C125', 'C99', 'C118', 'D7', 'A19',\n",
       "       'B49', 'D', 'C22 C26', 'C106', 'C65', 'E36', 'C54',\n",
       "       'B57 B59 B63 B66', 'C7', 'E34', 'C32', 'B18', 'C124', 'C91', 'E40',\n",
       "       'T', 'C128', 'D37', 'B35', 'E50', 'C82', 'B96 B98', 'E10', 'E44',\n",
       "       'A34', 'C104', 'C111', 'C92', 'E38', 'D21', 'E12', 'E63', 'A14',\n",
       "       'B37', 'C30', 'D20', 'B79', 'E25', 'D46', 'B73', 'C95', 'B38',\n",
       "       'B39', 'B22', 'C86', 'C70', 'A16', 'C101', 'C68', 'A10', 'E68',\n",
       "       'B41', 'A20', 'D19', 'D50', 'D9', 'A23', 'B50', 'A26', 'D48',\n",
       "       'E58', 'C126', 'B71', 'B51 B53 B55', 'D49', 'B5', 'B20', 'F G63',\n",
       "       'C62 C64', 'E24', 'C90', 'C45', 'E8', 'B101', 'D45', 'C46', 'D30',\n",
       "       'E121', 'D11', 'E77', 'F38', 'B3', 'D6', 'B82 B84', 'D17', 'A36',\n",
       "       'B102', 'B69', 'E49', 'C47', 'D28', 'E17', 'A24', 'C50', 'B42',\n",
       "       'C148'], dtype=object)"
      ]
     },
     "execution_count": 7,
     "metadata": {},
     "output_type": "execute_result"
    }
   ],
   "source": [
    "# there's a few columns with strings that we can convert to categorical numbers\n",
    "titanic_training['Sex'] = titanic_training['Sex'].map({'male':0, 'female':1})\n",
    "titanic_training['Embarked'] = titanic_training['Embarked'].map({'C':0, 'Q':1, 'S':2})\n",
    "titanic_training['has_Cabin?'] = titanic_training['Cabin'].isna()\n",
    "titanic_training['has_Cabin?'] = titanic_training['has_Cabin?'].map({False:0,True:1})\n",
    "\n",
    "# 'Cabin' is a string value with a combo of a letter then numbers. Let's just extract whatever letter they were on first\n",
    "# fill any missing values in Cabin with just the letter X to map to a number later\n",
    "titanic_training['Cabin'] = titanic_training['Cabin'].fillna('X')\n",
    "titanic_training['Cabin_level'] = titanic_training['Cabin'].apply(lambda value: value[0])\n",
    "\n",
    "# now let;s just map it back to numberical values\n",
    "titanic_training['Cabin_level'] = titanic_training['Cabin_level'].map({'A':0, 'B':1, 'C':2, 'D':3, 'E':4, 'F':5, 'G':6, 'T':7,'X':8})\n",
    "titanic_training['Cabin'].unique()"
   ]
  },
  {
   "cell_type": "code",
   "execution_count": null,
   "id": "e8fb5d37-6a59-4ac4-9136-32799d35b983",
   "metadata": {},
   "outputs": [],
   "source": [
    "# I think trying to extract any possible 'title' from name might be interesting as well\n",
    "print(titanic_training['Name'].head(10))\n",
    "test_value = titanic_training.iloc[10]['Name']\n",
    "\n",
    "# alright, so generally the format is last_name, 'TITLE'. then the name. this should be fine to extract\n",
    "titanic_training['title_raw'] = titanic_training['Name'].apply(lambda name: name.split(',')[1:][0].split('.')[0].strip())"
   ]
  },
  {
   "cell_type": "code",
   "execution_count": 213,
   "id": "46fc9f8c-f845-4033-96c0-595a84779bde",
   "metadata": {},
   "outputs": [
    {
     "data": {
      "text/plain": [
       "title_raw\n",
       "Capt              1\n",
       "Col               2\n",
       "Don               1\n",
       "Dr                7\n",
       "Jonkheer          1\n",
       "Lady              1\n",
       "Major             2\n",
       "Master           40\n",
       "Miss            182\n",
       "Mlle              2\n",
       "Mme               1\n",
       "Mr              517\n",
       "Mrs             125\n",
       "Ms                1\n",
       "Rev               6\n",
       "Sir               1\n",
       "the Countess      1\n",
       "dtype: int64"
      ]
     },
     "execution_count": 213,
     "metadata": {},
     "output_type": "execute_result"
    }
   ],
   "source": [
    "#let's check the title work we just did and see if caught a good amount\n",
    "titanic_training.groupby('title_raw').size()"
   ]
  },
  {
   "cell_type": "code",
   "execution_count": 214,
   "id": "7bdff540-29d9-4773-a464-843a803ad302",
   "metadata": {},
   "outputs": [
    {
     "data": {
      "text/html": [
       "<div>\n",
       "<style scoped>\n",
       "    .dataframe tbody tr th:only-of-type {\n",
       "        vertical-align: middle;\n",
       "    }\n",
       "\n",
       "    .dataframe tbody tr th {\n",
       "        vertical-align: top;\n",
       "    }\n",
       "\n",
       "    .dataframe thead th {\n",
       "        text-align: right;\n",
       "    }\n",
       "</style>\n",
       "<table border=\"1\" class=\"dataframe\">\n",
       "  <thead>\n",
       "    <tr style=\"text-align: right;\">\n",
       "      <th></th>\n",
       "      <th>Survived</th>\n",
       "      <th>Pclass</th>\n",
       "      <th>Name</th>\n",
       "      <th>Sex</th>\n",
       "      <th>Age</th>\n",
       "      <th>SibSp</th>\n",
       "      <th>Parch</th>\n",
       "      <th>Ticket</th>\n",
       "      <th>Fare</th>\n",
       "      <th>Cabin</th>\n",
       "      <th>Embarked</th>\n",
       "      <th>has_Cabin?</th>\n",
       "      <th>Cabin_level</th>\n",
       "      <th>title_raw</th>\n",
       "    </tr>\n",
       "    <tr>\n",
       "      <th>PassengerId</th>\n",
       "      <th></th>\n",
       "      <th></th>\n",
       "      <th></th>\n",
       "      <th></th>\n",
       "      <th></th>\n",
       "      <th></th>\n",
       "      <th></th>\n",
       "      <th></th>\n",
       "      <th></th>\n",
       "      <th></th>\n",
       "      <th></th>\n",
       "      <th></th>\n",
       "      <th></th>\n",
       "      <th></th>\n",
       "    </tr>\n",
       "  </thead>\n",
       "  <tbody>\n",
       "    <tr>\n",
       "      <th>600</th>\n",
       "      <td>1</td>\n",
       "      <td>1</td>\n",
       "      <td>Duff Gordon, Sir. Cosmo Edmund (\"Mr Morgan\")</td>\n",
       "      <td>0</td>\n",
       "      <td>49.0</td>\n",
       "      <td>1</td>\n",
       "      <td>0</td>\n",
       "      <td>PC 17485</td>\n",
       "      <td>56.9292</td>\n",
       "      <td>A20</td>\n",
       "      <td>0.0</td>\n",
       "      <td>0</td>\n",
       "      <td>0</td>\n",
       "      <td>Sir</td>\n",
       "    </tr>\n",
       "  </tbody>\n",
       "</table>\n",
       "</div>"
      ],
      "text/plain": [
       "             Survived  Pclass                                          Name  \\\n",
       "PassengerId                                                                   \n",
       "600                 1       1  Duff Gordon, Sir. Cosmo Edmund (\"Mr Morgan\")   \n",
       "\n",
       "             Sex   Age  SibSp  Parch    Ticket     Fare Cabin  Embarked  \\\n",
       "PassengerId                                                               \n",
       "600            0  49.0      1      0  PC 17485  56.9292   A20       0.0   \n",
       "\n",
       "             has_Cabin?  Cabin_level title_raw  \n",
       "PassengerId                                     \n",
       "600                   0            0       Sir  "
      ]
     },
     "execution_count": 214,
     "metadata": {},
     "output_type": "execute_result"
    }
   ],
   "source": [
    "# not bad! let's check out a few weird ones\n",
    "titanic_training.loc[titanic_training['title_raw']=='Sir']"
   ]
  },
  {
   "cell_type": "code",
   "execution_count": 215,
   "id": "60b5b653-a762-4c04-bf2d-dd20772157ea",
   "metadata": {},
   "outputs": [],
   "source": [
    "# okay I can clean these up a bit through map\n",
    "title_map = {'Capt':'other', 'Col':'other', 'Don':'other', 'Dr':'other',\n",
    "            'Jonkheer':'other', 'Lady':'other','Major':'other', 'Ms':'Miss',\n",
    "             'Mlle':'Miss', 'Mme':'Mrs', 'Rev':'other', 'Sir':'other', 'the Countess':'other',\n",
    "            'Mr':'Mr', 'Miss':'Miss', 'Mrs':'Mrs', 'Master':'Master'}\n",
    "titanic_training['title_group'] = titanic_training['title_raw'].map(title_map)\n",
    "\n",
    "title_training_map = {'Miss':0, 'Mr':1,'Mrs':2, 'Master':3, 'other':4}\n",
    "titanic_training['title_group'] = titanic_training['title_group'].map(title_training_map)\n"
   ]
  },
  {
   "cell_type": "code",
   "execution_count": 218,
   "id": "3a747d99-e326-444f-9019-a0ff3d9802ff",
   "metadata": {},
   "outputs": [
    {
     "name": "stdout",
     "output_type": "stream",
     "text": [
      "Ticket\n",
      "1601        7\n",
      "CA. 2343    7\n",
      "347082      7\n",
      "CA 2144     6\n",
      "347088      6\n",
      "           ..\n",
      "345572      1\n",
      "345364      1\n",
      "343276      1\n",
      "343275      1\n",
      "347464      1\n",
      "Length: 681, dtype: int64\n"
     ]
    }
   ],
   "source": [
    "# now let's take a look at tickets, just to see if there's anyhting interesting there\n",
    "print(titanic_training.groupby('Ticket').size().sort_values(ascending=False))\n",
    "\n",
    "# I want to create a feature that shares how many total passengers where on that ticket with folks. Could be similar to siblings & parents, but worth a look!\n",
    "def find_passengers_on_ticket(ticket_number):\n",
    "    filter_df = titanic_training.loc[titanic_training['Ticket']==ticket_number]\n",
    "    return len(filter_df)\n",
    "\n",
    "titanic_training['num_shared_ticket'] = titanic_training['Ticket'].apply(lambda ticket_number: find_passengers_on_ticket(ticket_number))\n",
    "\n",
    "# through analysis, I learned the 'Fare' is for the total ticket. So I'd like to add a 'per_person_fare'\n",
    "titanic_training['per_person_fare'] = titanic_training.apply(lambda row: row['Fare'] / row['num_shared_ticket'], axis=1)\n",
    "\n",
    "# let's do the same with cabin\n",
    "def find_passengers_in_cabin(cabin):\n",
    "    filter_df = titanic_training.loc[(titanic_training['Cabin']==cabin) & (~titanic_training['Cabin'].isna())]\n",
    "    return len(filter_df)\n",
    "\n",
    "titanic_training['num_shared_cabin'] = titanic_training['Cabin'].apply(lambda cabin: find_passengers_in_cabin(cabin))\n",
    "titanic_training['num_shared_cabin'].fillna(0, inplace=True)"
   ]
  },
  {
   "cell_type": "code",
   "execution_count": 219,
   "id": "9681b56d-47e9-48e6-bdda-771aa1b0a57f",
   "metadata": {},
   "outputs": [],
   "source": [
    "# let's also add a feature that calculates their total family\n",
    "titanic_training['family_aboard'] = titanic_training.apply(lambda row: row['SibSp'] + row['Parch'], axis=1)"
   ]
  },
  {
   "cell_type": "code",
   "execution_count": 220,
   "id": "807bddc5-d090-459b-b3ef-f05ab6a4c3ab",
   "metadata": {},
   "outputs": [],
   "source": [
    "### Also there are some blank values for 'Age'\n",
    "# let's just fill them in with the average age\n",
    "average_age = titanic_training['Age'].mean()\n",
    "\n",
    "titanic_training.loc[titanic_training['Age'].isna(), 'Age'] = average_age\n",
    "\n",
    "# now that we've done that, let's add a feature checks if they were a child or not\n",
    "titanic_training['is_Child?'] = titanic_training['Age'].apply(lambda age: 1 if age <= 12 else 0)"
   ]
  },
  {
   "cell_type": "code",
   "execution_count": 221,
   "id": "ab180b68-8058-4a2d-a5c9-fa3feb9a8e1d",
   "metadata": {},
   "outputs": [],
   "source": [
    "# Lastly there's two embarked missing\n",
    "# let's check those out\n",
    "titanic_training.loc[titanic_training['Embarked'].isna()]\n",
    "\n",
    "# I'm just going to set all of the missing 'Embarked' values to 3\n",
    "titanic_training.loc[titanic_training['Embarked'].isna(), 'Embarked'] = 3"
   ]
  },
  {
   "cell_type": "code",
   "execution_count": 222,
   "id": "65e2d5d5-0976-43cc-a909-1320610bc987",
   "metadata": {},
   "outputs": [
    {
     "name": "stdout",
     "output_type": "stream",
     "text": [
      "<class 'pandas.core.frame.DataFrame'>\n",
      "Int64Index: 891 entries, 1 to 891\n",
      "Data columns (total 20 columns):\n",
      " #   Column             Non-Null Count  Dtype  \n",
      "---  ------             --------------  -----  \n",
      " 0   Survived           891 non-null    int64  \n",
      " 1   Pclass             891 non-null    int64  \n",
      " 2   Name               891 non-null    object \n",
      " 3   Sex                891 non-null    int64  \n",
      " 4   Age                891 non-null    float64\n",
      " 5   SibSp              891 non-null    int64  \n",
      " 6   Parch              891 non-null    int64  \n",
      " 7   Ticket             891 non-null    object \n",
      " 8   Fare               891 non-null    float64\n",
      " 9   Cabin              891 non-null    object \n",
      " 10  Embarked           891 non-null    float64\n",
      " 11  has_Cabin?         891 non-null    int64  \n",
      " 12  Cabin_level        891 non-null    int64  \n",
      " 13  title_raw          891 non-null    object \n",
      " 14  title_group        891 non-null    int64  \n",
      " 15  num_shared_ticket  891 non-null    int64  \n",
      " 16  per_person_fare    891 non-null    float64\n",
      " 17  num_shared_cabin   891 non-null    int64  \n",
      " 18  family_aboard      891 non-null    int64  \n",
      " 19  is_Child?          891 non-null    int64  \n",
      "dtypes: float64(4), int64(12), object(4)\n",
      "memory usage: 146.2+ KB\n"
     ]
    }
   ],
   "source": [
    "# let's just double check that we have added the features I wanted and there are no more missing values\n",
    "titanic_training.info()"
   ]
  },
  {
   "cell_type": "code",
   "execution_count": 287,
   "id": "a3e62492-83b9-4416-98bd-1dacbdd762b5",
   "metadata": {},
   "outputs": [],
   "source": [
    "# let's just subset all except the 'Survived' Column, since that's what we are trying to predict\n",
    "cols_to_exclude = ['Survived', 'Name', 'Ticket', 'Cabin', 'SibSp', 'Parch', 'Fare', 'title_raw', 'survival_prediction']\n",
    "feature_cols = [col for col in titanic_training.columns if col not in cols_to_exclude]\n",
    "\n",
    "X = titanic_training[feature_cols]\n",
    "y = titanic_training['Survived']\n",
    "\n",
    "# now we need to scale our X\n",
    "scaler = preprocessing.StandardScaler().fit(X)\n",
    "X_scaled = scaler.transform(X)\n",
    "\n",
    "logreg.fit(X_scaled,y)\n",
    "titanic_training['survival_prediction'] = logreg.predict(X_scaled)\n",
    "\n",
    "# let's check the accuracy score\n",
    "logreg_accuracy = accuracy_score(titanic_training['Survived'], titanic_training['survival_prediction'])"
   ]
  },
  {
   "cell_type": "code",
   "execution_count": 288,
   "id": "b8da7924-4107-4736-9af1-768cade42f6d",
   "metadata": {},
   "outputs": [],
   "source": [
    "logreg_proba = logreg.predict_proba(X_scaled)[:,1]\n",
    "\n",
    "# let's check out a confusion matrix\n",
    "tn, fp, fn, tp = confusion_matrix(y_true=titanic_training['Survived'], y_pred=logreg_proba > .5).ravel()\n",
    "\n",
    "logreg_matrix = (tn, fp, fn, tp)"
   ]
  },
  {
   "cell_type": "code",
   "execution_count": 289,
   "id": "33ca0d94-86c5-42c7-b2ff-07be725ba525",
   "metadata": {},
   "outputs": [
    {
     "name": "stdout",
     "output_type": "stream",
     "text": [
      "Total Survival Rate from Training Data:  0.384\n"
     ]
    }
   ],
   "source": [
    "# lets do some Feaature Importance work to improve this\n",
    "# let's get a sense of how many estimators I need in a random forest\n",
    "k_value = len(feature_cols)\n",
    "\n",
    "# probability of survivalin the training data\n",
    "survival_prob = len(titanic_training.loc[titanic_training['Survived']==1]) / len(titanic_training)\n",
    "print(\"Total Survival Rate from Training Data: \", round(survival_prob, 3))"
   ]
  },
  {
   "cell_type": "code",
   "execution_count": 290,
   "id": "9e62a3b0-2269-4731-b711-f92ae439a638",
   "metadata": {},
   "outputs": [],
   "source": [
    "n_estimators = round((k_value * 10) / survival_prob)\n",
    "\n",
    "rf = RandomForestRegressor(n_estimators=n_estimators)\n",
    "rf.fit(X_scaled, y)\n",
    "\n",
    "features_sorted = rf.feature_importances_.argsort()"
   ]
  },
  {
   "cell_type": "code",
   "execution_count": 291,
   "id": "d9ec7ddf-faf0-4ff9-8fae-de553c2fede0",
   "metadata": {},
   "outputs": [
    {
     "data": {
      "text/plain": [
       "<BarContainer object of 12 artists>"
      ]
     },
     "execution_count": 291,
     "metadata": {},
     "output_type": "execute_result"
    },
    {
     "data": {
      "image/png": "[encoded data removed]",
      "text/plain": [
       "<Figure size 432x288 with 1 Axes>"
      ]
     },
     "metadata": {},
     "output_type": "display_data"
    }
   ],
   "source": [
    "titanic_target_features = titanic_training.loc[:, feature_cols]\n",
    "\n",
    "plt.barh(titanic_target_features.columns[features_sorted], rf.feature_importances_[features_sorted])"
   ]
  },
  {
   "cell_type": "code",
   "execution_count": 292,
   "id": "b649a92c-d6eb-47b3-a56d-a385f03ad92a",
   "metadata": {},
   "outputs": [
    {
     "data": {
      "text/plain": [
       "<AxesSubplot:>"
      ]
     },
     "execution_count": 292,
     "metadata": {},
     "output_type": "execute_result"
    },
    {
     "data": {
      "image/png": "[encoded data removed]",
      "text/plain": [
       "<Figure size 1080x432 with 2 Axes>"
      ]
     },
     "metadata": {},
     "output_type": "display_data"
    }
   ],
   "source": [
    "# let's do  quick heat map too to see how these features correlate\n",
    "correlation_features = ['Sex', 'Age', 'per_person_fare', 'Pclass', 'family_aboard', 'Survived']\n",
    "plt.figure(figsize=(15,6))\n",
    "sns.color_palette('mako')\n",
    "sns.heatmap(titanic_training[correlation_features].corr(), vmax=0.6, square=True, annot=True)"
   ]
  },
  {
   "cell_type": "code",
   "execution_count": 293,
   "id": "422409fa-7d86-48ed-afef-9b8870fa1b1e",
   "metadata": {},
   "outputs": [
    {
     "name": "stdout",
     "output_type": "stream",
     "text": [
      "Sex grouped by Survival Rate\n",
      "\n",
      "------------------------------\n"
     ]
    },
    {
     "data": {
      "text/html": [
       "<div>\n",
       "<style scoped>\n",
       "    .dataframe tbody tr th:only-of-type {\n",
       "        vertical-align: middle;\n",
       "    }\n",
       "\n",
       "    .dataframe tbody tr th {\n",
       "        vertical-align: top;\n",
       "    }\n",
       "\n",
       "    .dataframe thead th {\n",
       "        text-align: right;\n",
       "    }\n",
       "</style>\n",
       "<table border=\"1\" class=\"dataframe\">\n",
       "  <thead>\n",
       "    <tr style=\"text-align: right;\">\n",
       "      <th></th>\n",
       "      <th>Survived</th>\n",
       "    </tr>\n",
       "    <tr>\n",
       "      <th>Sex</th>\n",
       "      <th></th>\n",
       "    </tr>\n",
       "  </thead>\n",
       "  <tbody>\n",
       "    <tr>\n",
       "      <th>1</th>\n",
       "      <td>0.742038</td>\n",
       "    </tr>\n",
       "    <tr>\n",
       "      <th>0</th>\n",
       "      <td>0.188908</td>\n",
       "    </tr>\n",
       "  </tbody>\n",
       "</table>\n",
       "</div>"
      ],
      "text/plain": [
       "     Survived\n",
       "Sex          \n",
       "1    0.742038\n",
       "0    0.188908"
      ]
     },
     "execution_count": 293,
     "metadata": {},
     "output_type": "execute_result"
    }
   ],
   "source": [
    "# alright, maybe this is backwards, but let's just explore some general trends between some features individually\n",
    "print(\"Sex grouped by Survival Rate\\n\")\n",
    "print(\"-\"*30)\n",
    "titanic_training[['Sex', 'Survived']].groupby('Sex').mean().sort_values('Survived', ascending=False)"
   ]
  },
  {
   "cell_type": "code",
   "execution_count": 294,
   "id": "56a841f7-a138-4d94-b666-187f0693f29c",
   "metadata": {},
   "outputs": [
    {
     "data": {
      "text/plain": [
       "<seaborn.axisgrid.FacetGrid at 0x7ffc44aa0700>"
      ]
     },
     "execution_count": 294,
     "metadata": {},
     "output_type": "execute_result"
    },
    {
     "data": {
      "image/png": "[encoded data removed]",
      "text/plain": [
       "<Figure size 432x216 with 2 Axes>"
      ]
     },
     "metadata": {},
     "output_type": "display_data"
    }
   ],
   "source": [
    "# so overwhelmingly, women survived the disaster more often\n",
    "# let's check out surival rates by age\n",
    "g = sns.FacetGrid(titanic_training, col='Survived')\n",
    "g.map(plt.hist, 'Age', bins=25)"
   ]
  },
  {
   "cell_type": "code",
   "execution_count": 298,
   "id": "b6e832ac-bb34-41e7-816d-93d74931124b",
   "metadata": {},
   "outputs": [
    {
     "data": {
      "text/plain": [
       "array([[<AxesSubplot:title={'center':'Age'}>]], dtype=object)"
      ]
     },
     "execution_count": 298,
     "metadata": {},
     "output_type": "execute_result"
    },
    {
     "data": {
      "image/png": "[encoded data removed]",
      "text/plain": [
       "<Figure size 432x288 with 1 Axes>"
      ]
     },
     "metadata": {},
     "output_type": "display_data"
    }
   ],
   "source": [
    "# just for comparisons sake, let's just look at the total universise from the training set\n",
    "titanic_training.hist('Age', bins=25)"
   ]
  },
  {
   "cell_type": "code",
   "execution_count": 299,
   "id": "54420c89-7c8b-4dd0-91de-300915c05303",
   "metadata": {},
   "outputs": [],
   "source": [
    "# alright, so just eyeballing this, those who died skewed a bit younger than those who survived"
   ]
  },
  {
   "cell_type": "code",
   "execution_count": 300,
   "id": "0d3f1a95-98c1-446e-9e46-bdab6daadae3",
   "metadata": {},
   "outputs": [
    {
     "name": "stdout",
     "output_type": "stream",
     "text": [
      "Passenger Class grouped by Survival Rate\n",
      "\n",
      "----------------------------------------\n"
     ]
    },
    {
     "data": {
      "text/html": [
       "<div>\n",
       "<style scoped>\n",
       "    .dataframe tbody tr th:only-of-type {\n",
       "        vertical-align: middle;\n",
       "    }\n",
       "\n",
       "    .dataframe tbody tr th {\n",
       "        vertical-align: top;\n",
       "    }\n",
       "\n",
       "    .dataframe thead th {\n",
       "        text-align: right;\n",
       "    }\n",
       "</style>\n",
       "<table border=\"1\" class=\"dataframe\">\n",
       "  <thead>\n",
       "    <tr style=\"text-align: right;\">\n",
       "      <th></th>\n",
       "      <th>Survived</th>\n",
       "    </tr>\n",
       "    <tr>\n",
       "      <th>Pclass</th>\n",
       "      <th></th>\n",
       "    </tr>\n",
       "  </thead>\n",
       "  <tbody>\n",
       "    <tr>\n",
       "      <th>1</th>\n",
       "      <td>0.629630</td>\n",
       "    </tr>\n",
       "    <tr>\n",
       "      <th>2</th>\n",
       "      <td>0.472826</td>\n",
       "    </tr>\n",
       "    <tr>\n",
       "      <th>3</th>\n",
       "      <td>0.242363</td>\n",
       "    </tr>\n",
       "  </tbody>\n",
       "</table>\n",
       "</div>"
      ],
      "text/plain": [
       "        Survived\n",
       "Pclass          \n",
       "1       0.629630\n",
       "2       0.472826\n",
       "3       0.242363"
      ]
     },
     "execution_count": 300,
     "metadata": {},
     "output_type": "execute_result"
    }
   ],
   "source": [
    "# how about by passenger class\n",
    "print(\"Passenger Class grouped by Survival Rate\\n\")\n",
    "print(\"-\"*40)\n",
    "titanic_training[['Pclass', 'Survived']].groupby('Pclass').mean().sort_values('Survived', ascending=False)"
   ]
  },
  {
   "cell_type": "code",
   "execution_count": 301,
   "id": "fc731b95-ee18-469a-8f79-64cc0c5bef14",
   "metadata": {},
   "outputs": [
    {
     "data": {
      "text/plain": [
       "<seaborn.axisgrid.FacetGrid at 0x7ffc44b91e50>"
      ]
     },
     "execution_count": 301,
     "metadata": {},
     "output_type": "execute_result"
    },
    {
     "data": {
      "image/png": "[encoded data removed]",
      "text/plain": [
       "<Figure size 432x648 with 6 Axes>"
      ]
     },
     "metadata": {},
     "output_type": "display_data"
    }
   ],
   "source": [
    "# let's check out surival rates by Fare\n",
    "g = sns.FacetGrid(titanic_training, col='Survived', row='Pclass',xlim=50)\n",
    "g.map(plt.hist, 'per_person_fare', bins=20)"
   ]
  },
  {
   "cell_type": "code",
   "execution_count": 302,
   "id": "e78574f0-f2df-4fcd-b743-4d8548fb93b5",
   "metadata": {},
   "outputs": [
    {
     "data": {
      "text/plain": [
       "<seaborn.axisgrid.FacetGrid at 0x7ffc45fed430>"
      ]
     },
     "execution_count": 302,
     "metadata": {},
     "output_type": "execute_result"
    },
    {
     "data": {
      "image/png": "[encoded data removed]",
      "text/plain": [
       "<Figure size 432x648 with 6 Axes>"
      ]
     },
     "metadata": {},
     "output_type": "display_data"
    }
   ],
   "source": [
    "# there's some definite economic disparity here (sadly)\n",
    "# it's worth cross checking family_aboard as this might also suggest that a ton of people who died were by themselves\n",
    "g = sns.FacetGrid(titanic_training, col='Survived', row='Pclass')\n",
    "g.map(plt.hist, 'family_aboard', bins=20)"
   ]
  },
  {
   "cell_type": "code",
   "execution_count": 303,
   "id": "2df3be24-3962-490d-9cf6-f36a5d78bb13",
   "metadata": {},
   "outputs": [
    {
     "data": {
      "text/plain": [
       "<seaborn.axisgrid.FacetGrid at 0x7ffc4652d700>"
      ]
     },
     "execution_count": 303,
     "metadata": {},
     "output_type": "execute_result"
    },
    {
     "data": {
      "image/png": "[encoded data removed]",
      "text/plain": [
       "<Figure size 432x648 with 6 Axes>"
      ]
     },
     "metadata": {},
     "output_type": "display_data"
    }
   ],
   "source": [
    "#let's revist age with pclass\n",
    "g = sns.FacetGrid(titanic_training, col='Survived', row='Pclass')\n",
    "g.map(plt.hist, 'Age', bins=25)"
   ]
  },
  {
   "cell_type": "code",
   "execution_count": 304,
   "id": "7e3e8aa0-cf5b-44b7-99fb-71c4f87f4778",
   "metadata": {},
   "outputs": [
    {
     "name": "stdout",
     "output_type": "stream",
     "text": [
      "Accuracy score from simple Logistric Regression: 82.3%\n"
     ]
    }
   ],
   "source": [
    "### alright, let's just mess around a bit more and see if other models can improve out accuracy score\n",
    "print('Accuracy score from simple Logistric Regression: {}%'.format(round(logreg_accuracy, 3) * 100))"
   ]
  },
  {
   "cell_type": "code",
   "execution_count": 330,
   "id": "a5b33932-97a7-49e0-8ccd-86544a539854",
   "metadata": {},
   "outputs": [],
   "source": [
    "# let's import a few other models to mess around with\n",
    "from sklearn.model_selection import cross_val_score\n",
    "from sklearn.ensemble import RandomForestClassifier\n",
    "from sklearn.tree import DecisionTreeClassifier\n",
    "from sklearn.svm import SVC\n",
    "from sklearn.neighbors import KNeighborsClassifier"
   ]
  },
  {
   "cell_type": "code",
   "execution_count": 324,
   "id": "0ee704ca-cc63-4c0f-9d2b-16b0456ad6c8",
   "metadata": {},
   "outputs": [
    {
     "data": {
      "text/plain": [
       "0.9876543209876543"
      ]
     },
     "execution_count": 324,
     "metadata": {},
     "output_type": "execute_result"
    }
   ],
   "source": [
    "# alright, let's start with a Random Forest\n",
    "random_forest = RandomForestClassifier(random_state=6109)\n",
    "random_forest.fit(X_scaled, y)\n",
    "random_forest.predict(X_scaled)\n",
    "random_forest.score(X_scaled, y)"
   ]
  },
  {
   "cell_type": "code",
   "execution_count": 325,
   "id": "08da19fb-de47-4dff-9668-747bb8d0c706",
   "metadata": {},
   "outputs": [
    {
     "data": {
      "text/plain": [
       "<BarContainer object of 12 artists>"
      ]
     },
     "execution_count": 325,
     "metadata": {},
     "output_type": "execute_result"
    },
    {
     "data": {
      "image/png": "[encoded data removed]",
      "text/plain": [
       "<Figure size 432x288 with 1 Axes>"
      ]
     },
     "metadata": {},
     "output_type": "display_data"
    }
   ],
   "source": [
    "features_sorted = random_forest.feature_importances_.argsort()\n",
    "plt.barh(titanic_target_features.columns[features_sorted], random_forest.feature_importances_[features_sorted])"
   ]
  },
  {
   "cell_type": "code",
   "execution_count": 326,
   "id": "ae0027e0-f7b8-4a1b-96bd-0009377ca6d8",
   "metadata": {},
   "outputs": [
    {
     "data": {
      "text/plain": [
       "0.9876543209876543"
      ]
     },
     "execution_count": 326,
     "metadata": {},
     "output_type": "execute_result"
    }
   ],
   "source": [
    "# alright, let's start with a Random Forest\n",
    "decision_tree = DecisionTreeClassifier(random_state=6109)\n",
    "decision_tree.fit(X_scaled, y)\n",
    "decision_tree.predict(X_scaled)\n",
    "decision_tree.score(X_scaled, y)"
   ]
  },
  {
   "cell_type": "code",
   "execution_count": 327,
   "id": "679537f0-33e2-41a8-b1bc-ecefead6be21",
   "metadata": {},
   "outputs": [
    {
     "data": {
      "text/plain": [
       "<BarContainer object of 12 artists>"
      ]
     },
     "execution_count": 327,
     "metadata": {},
     "output_type": "execute_result"
    },
    {
     "data": {
      "image/png": "[encoded data removed]",
      "text/plain": [
       "<Figure size 432x288 with 1 Axes>"
      ]
     },
     "metadata": {},
     "output_type": "display_data"
    }
   ],
   "source": [
    "features_sorted = decision_tree.feature_importances_.argsort()\n",
    "plt.barh(titanic_target_features.columns[features_sorted], decision_tree.feature_importances_[features_sorted])"
   ]
  },
  {
   "cell_type": "code",
   "execution_count": 337,
   "id": "4f4c7941-6b90-42f9-a1e4-67fbe8ebfc3f",
   "metadata": {},
   "outputs": [
    {
     "data": {
      "text/plain": [
       "0.8428731762065096"
      ]
     },
     "execution_count": 337,
     "metadata": {},
     "output_type": "execute_result"
    }
   ],
   "source": [
    "# alright, let's start with a SVC\n",
    "svc = SVC(random_state=6109)\n",
    "svc.fit(X_scaled, y)\n",
    "svc.predict(X_scaled)\n",
    "svc.score(X_scaled, y)"
   ]
  },
  {
   "cell_type": "code",
   "execution_count": 336,
   "id": "1932c7da-60bb-457b-bf62-03c3b2316fc1",
   "metadata": {},
   "outputs": [
    {
     "data": {
      "text/plain": [
       "0.8754208754208754"
      ]
     },
     "execution_count": 336,
     "metadata": {},
     "output_type": "execute_result"
    }
   ],
   "source": [
    "# alright, let's start with a SVC\n",
    "knn = KNeighborsClassifier()\n",
    "knn.fit(X_scaled, y)\n",
    "knn.predict(X_scaled)\n",
    "knn.score(X_scaled, y)"
   ]
  },
  {
   "cell_type": "code",
   "execution_count": null,
   "id": "042047c4-184f-4c95-8d9e-dadf77d28437",
   "metadata": {},
   "outputs": [],
   "source": []
  }
 ],
 "metadata": {
  "kernelspec": {
   "display_name": "Python 3 (ipykernel)",
   "language": "python",
   "name": "python3"
  },
  "language_info": {
   "codemirror_mode": {
    "name": "ipython",
    "version": 3
   },
   "file_extension": ".py",
   "mimetype": "text/x-python",
   "name": "python",
   "nbconvert_exporter": "python",
   "pygments_lexer": "ipython3",
   "version": "3.10.4"
  }
 },
 "nbformat": 4,
 "nbformat_minor": 5
}
